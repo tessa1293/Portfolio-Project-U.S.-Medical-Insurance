{
 "cells": [
  {
   "cell_type": "markdown",
   "metadata": {},
   "source": [
    "# U.S. Medical Insurance Cost \n",
    "For this project, I investigated a ***medical insurance costs dataset*** in a .csv file using the fundamental Python skills I have developed. The **insurance.csv** dataset contains patient information and insurance cost. This project aimed to analyze various attributes within **insurance.csv** to learn more about the patient data in the file and gain insight into potential cases for the dataset."
   ]
  },
  {
   "cell_type": "markdown",
   "metadata": {},
   "source": [
    "## Importing and Reviewing Dataset\n",
    "To start,  I imported all the necessary libraries. For this project, the only library needed is the ***csv*** library to work with the **insurance.csv** data."
   ]
  },
  {
   "cell_type": "code",
   "execution_count": 1,
   "metadata": {},
   "outputs": [],
   "source": [
    "import csv"
   ]
  },
  {
   "cell_type": "markdown",
   "metadata": {},
   "source": [
    "The next step was to look through **insurance.csv** to get acquainted with the data. I checked the following aspects of the data file to plan out how to import the data into a Python file:\n",
    "* The names of columns and rows\n",
    "* Any noticeable missing data\n",
    "* Types of values (numerical vs. categorical)"
   ]
  },
  {
   "cell_type": "code",
   "execution_count": 9,
   "metadata": {},
   "outputs": [
    {
     "name": "stdout",
     "output_type": "stream",
     "text": [
      "['age', 'sex', 'bmi', 'children', 'smoker', 'region', 'charges']\n",
      "['19', 'female', '27.9', '0', 'yes', 'southwest', '16884.924']\n",
      "['18', 'male', '33.77', '1', 'no', 'southeast', '1725.5523']\n",
      "['28', 'male', '33', '3', 'no', 'southeast', '4449.462']\n",
      "['33', 'male', '22.705', '0', 'no', 'northwest', '21984.47061']\n",
      "['32', 'male', '28.88', '0', 'no', 'northwest', '3866.8552']\n",
      "['31', 'female', '25.74', '0', 'no', 'southeast', '3756.6216']\n",
      "['46', 'female', '33.44', '1', 'no', 'southeast', '8240.5896']\n",
      "['37', 'female', '27.74', '3', 'no', 'northwest', '7281.5056']\n",
      "['37', 'male', '29.83', '2', 'no', 'northeast', '6406.4107']\n",
      "['60', 'female', '25.84', '0', 'no', 'northwest', '28923.13692']\n"
     ]
    }
   ],
   "source": [
    "#print the whole CSV file \n",
    "#with open(\"insurance.csv\") as insurance_file:\n",
    "#    print(insurance_file.read())\n",
    "\n",
    "#Review first 10 rows and header of the csv file\n",
    "with open(\"insurance.csv\") as insurance_file:\n",
    "    file_reader = csv.reader(insurance_file, delimiter = \",\")\n",
    "    count = 0\n",
    "    for row in file_reader:\n",
    "        print(row)\n",
    "        if count > 9:\n",
    "            break\n",
    "        count += 1"
   ]
  },
  {
   "cell_type": "markdown",
   "metadata": {},
   "source": [
    "**insurance.csv** contains the 7 columns and 1339 rows. The 7 columns have the following information:  \n",
    "* age: number (integer)\n",
    "* sex: female, male\n",
    "* bmi: number (float)\n",
    "* children: number (integer)\n",
    "* smoker: yes, no\n",
    "* region: southwest, southeast, northwest, northeast\n",
    "* charges: number (float)\n",
    "\n",
    "Each row represents one record. Fortunately, there is no signs of missing data."
   ]
  },
  {
   "cell_type": "markdown",
   "metadata": {},
   "source": [
    "## Scoping your Project"
   ]
  },
  {
   "cell_type": "markdown",
   "metadata": {},
   "source": [
    "Now that I have observed the typeo data that **insurance.csv** contains, I can start planning my analysis. First, I had to plan out what to investigate and how to perform the analysis. There are many aspects of the data that I could review. The following operations that I decided to implement:\n",
    "* Find the average age of the patients in the data set\n",
    "* Look at the different costs between males vs. females\n",
    "* Find the geographical location where a majority of the patients are from\n",
    "* Find the average yearly medical charges of the patients"
   ]
  },
  {
   "cell_type": "markdown",
   "metadata": {},
   "source": [
    "## Saving Dataset via Python Variables"
   ]
  },
  {
   "cell_type": "markdown",
   "metadata": {},
   "source": [
    "In this section of code, I am using a context manager to read a **.csv file** and save it to a global variable in the script."
   ]
  },
  {
   "cell_type": "code",
   "execution_count": 38,
   "metadata": {},
   "outputs": [],
   "source": [
    "insurance_dataset = []\n",
    "\n",
    "with open('insurance.csv', newline = '') as insurance_csv:\n",
    "    insurance_file = csv.DictReader(insurance_csv)\n",
    "    for row in insurance_file:\n",
    "        insurance_dataset.append(row)\n",
    "        \n",
    " #print(insurance_dataset)"
   ]
  },
  {
   "cell_type": "markdown",
   "metadata": {},
   "source": [
    "## Building Analysis Functions"
   ]
  },
  {
   "cell_type": "markdown",
   "metadata": {},
   "source": [
    "### Average age of the patient in the data set"
   ]
  },
  {
   "cell_type": "code",
   "execution_count": 121,
   "metadata": {},
   "outputs": [
    {
     "name": "stdout",
     "output_type": "stream",
     "text": [
      "The average age of the patients in this dataset is 39.\n"
     ]
    }
   ],
   "source": [
    "def average_age(dataset):\n",
    "    total_age = 0\n",
    "    num_records = 0\n",
    "    for record in dataset:\n",
    "        total_age += int(record[\"age\"])\n",
    "        num_records += 1\n",
    "    return round(total_age / num_records)\n",
    "average = average_age(insurance_dataset)\n",
    "print(\"The average age of the patients in this dataset is \" + str(average) + \".\")"
   ]
  },
  {
   "cell_type": "markdown",
   "metadata": {},
   "source": [
    "The average age of the patients in **insurance.csv** is about 39 years old. This information is essential to check to ensure that the data in **insurance.csv** represents a broader population. In addition, if we use the dataset to make inferences about other populations, the data must be abundant and broad enough for such use cases.\n",
    "\n",
    "Further analysis would have to be required to make sure the range and standard deviation of the patient age group in **insurance.csv** are representative of a random sampling of individuals"
   ]
  },
  {
   "cell_type": "markdown",
   "metadata": {},
   "source": [
    "### Different Costs Between Males vs. Females"
   ]
  },
  {
   "cell_type": "code",
   "execution_count": 120,
   "metadata": {},
   "outputs": [
    {
     "name": "stdout",
     "output_type": "stream",
     "text": [
      "The average insurance charge for a male is 13956.751177721886 dollars, while the average insurance charges for a female is 12569.57884383534 dollars. This is a 1387.1723338865468 dollar difference.\n"
     ]
    }
   ],
   "source": [
    "def cost_difference_by_category(dataset, category):\n",
    "    categories = {}\n",
    "    total_cost = {}\n",
    "    for record in dataset:\n",
    "        key = record[category]\n",
    "        if key in categories: \n",
    "            categories[key] = categories[key] + float(record[\"charges\"])\n",
    "            total_cost[key] += 1 \n",
    "        else:\n",
    "            categories[key] = float(record[\"charges\"])\n",
    "            total_cost[key] = 1 \n",
    "    for key, value in total_cost.items():\n",
    "        categories[key] = categories[key] / value\n",
    "    return categories\n",
    "male_vs_female = cost_difference_by_category(insurance_dataset, \"sex\")\n",
    "#print(male_vs_female)\n",
    "print(\"The average insurance charge for a male is \" + str(male_vs_female['male']) + \" dollars, while the average insurance charges for a female is \" + str(male_vs_female['female']) + \" dollars. This is a \" + str(male_vs_female['male'] - male_vs_female['female'])+ \" dollar difference.\")\n"
   ]
  },
  {
   "cell_type": "markdown",
   "metadata": {},
   "source": [
    "The balance of males vs. females in **insurance.csv** is vital to ensure that our data is unbiased and covers various populations. Similar to the above, it is important to check that this dataset is representative of a broader population of individuals. In addition, if a person were to use this dataset to create a classification model, it would be imperative to ensure that the attributes are balanced.\n",
    "\n",
    "Often, data needs to be more balanced; this issue can lead to statistical problems when performing analysis. Again, this will have to be explored further in future portfolio projects!"
   ]
  },
  {
   "cell_type": "markdown",
   "metadata": {},
   "source": [
    "### Geological Location Where a Majority of the Patients Live"
   ]
  },
  {
   "cell_type": "code",
   "execution_count": 49,
   "metadata": {},
   "outputs": [
    {
     "name": "stdout",
     "output_type": "stream",
     "text": [
      "{'southwest': 325, 'southeast': 364, 'northwest': 325, 'northeast': 324}\n",
      "The southeast region is the largest with 364 members.\n"
     ]
    }
   ],
   "source": [
    "#This funtion counts the number of entries in a category\n",
    "def count_by_category(dataset, category):\n",
    "    categories = {} \n",
    "    for record in dataset:\n",
    "        key = record[category]\n",
    "        if key in categories: \n",
    "            categories[key] = categories[key] + 1 \n",
    "        else:\n",
    "            categories[key] = 1 \n",
    "    return categories\n",
    "\n",
    "#This function will provide the category with the most customers register\n",
    "def max_category(category): \n",
    "    name = \"\"\n",
    "    total = 0\n",
    "    for key,value in category.items(): \n",
    "        if total < value:\n",
    "            total = value\n",
    "            name = key\n",
    "    return name, total\n",
    "\n",
    "#testing function\n",
    "regions = count_by_category(insurance_dataset, \"region\")\n",
    "print(regions)\n",
    "region, total = max_category(regions)\n",
    "print(\"The \" + str(region) + \" region is the largest with \" + str(total) + \" members.\")"
   ]
  },
  {
   "cell_type": "markdown",
   "metadata": {},
   "source": [
    "This dataset has four unique geographical regions, and it is essential to note that all the patients come from the United States. The largest region is in the southeast region, with 364 members. \n",
    "\n",
    "This information also shows that this population sample gives a broad range about the different parts of the United States due to a similar amount of members from each area in this dataset."
   ]
  },
  {
   "cell_type": "markdown",
   "metadata": {},
   "source": [
    "### Average Yearly Medical Charges of the Patients"
   ]
  },
  {
   "cell_type": "code",
   "execution_count": 124,
   "metadata": {},
   "outputs": [
    {
     "name": "stdout",
     "output_type": "stream",
     "text": [
      "The average yearly medical charges for the patients in this dataset is 13270 dollars.\n"
     ]
    }
   ],
   "source": [
    "def average_charges(dataset):\n",
    "    total_cost = 0\n",
    "    num_patients = 0\n",
    "    for record in dataset:\n",
    "        total_cost += float(record[\"charges\"])\n",
    "        num_patients += 1\n",
    "    return round(total_cost / num_patients)\n",
    "\n",
    "charges = average_charges(insurance_dataset)\n",
    "print(\"The average yearly medical charges for the patients in this dataset is \" + str(charges) + \" dollars.\")"
   ]
  },
  {
   "cell_type": "markdown",
   "metadata": {},
   "source": [
    "The average yearly medical insurance charge per individual is 13270 US dollars. Further analysis would be required to see what patient attributes contribute most strongly to low and/or high medical insurance charges. For example, one could check if patient age correlates with the amount of money they spend yearly."
   ]
  }
 ],
 "metadata": {
  "kernelspec": {
   "display_name": "Python 3 (ipykernel)",
   "language": "python",
   "name": "python3"
  },
  "language_info": {
   "codemirror_mode": {
    "name": "ipython",
    "version": 3
   },
   "file_extension": ".py",
   "mimetype": "text/x-python",
   "name": "python",
   "nbconvert_exporter": "python",
   "pygments_lexer": "ipython3",
   "version": "3.9.13"
  }
 },
 "nbformat": 4,
 "nbformat_minor": 4
}
